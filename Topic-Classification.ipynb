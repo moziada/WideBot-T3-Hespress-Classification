{
 "cells": [
  {
   "attachments": {},
   "cell_type": "markdown",
   "metadata": {},
   "source": [
    "# Hespress Topic Classification"
   ]
  },
  {
   "cell_type": "code",
   "execution_count": 46,
   "metadata": {},
   "outputs": [],
   "source": [
    "import pandas as pd\n",
    "import numpy as np\n",
    "import re\n",
    "from pathlib import Path\n",
    "from matplotlib import pyplot as plt\n",
    "\n",
    "DATAPATH = Path(\"Data\")\n",
    "STORIES_FILES = [\n",
    "    'stories_art-et-culture.csv',\n",
    "    'stories_economie.csv',\n",
    "    'stories_faits-divers.csv',\n",
    "    'stories_marocains-du-monde.csv',\n",
    "    'stories_medias.csv',\n",
    "    'stories_orbites.csv',\n",
    "    'stories_politique.csv',\n",
    "    'stories_regions.csv',\n",
    "    'stories_societe.csv',\n",
    "    'stories_sport.csv',\n",
    "    'stories_tamazight.csv'\n",
    "]"
   ]
  },
  {
   "cell_type": "markdown",
   "metadata": {},
   "source": [
    "## Read Data"
   ]
  },
  {
   "cell_type": "code",
   "execution_count": 47,
   "metadata": {},
   "outputs": [],
   "source": [
    "dfs = []\n",
    "for file in STORIES_FILES:\n",
    "        df = pd.read_csv(DATAPATH / file, index_col=0)\n",
    "        dfs.append(df)\n",
    "stories_df = pd.concat(dfs, ignore_index=True)"
   ]
  },
  {
   "cell_type": "markdown",
   "metadata": {},
   "source": [
    "## Data Processing"
   ]
  },
  {
   "cell_type": "code",
   "execution_count": 48,
   "metadata": {},
   "outputs": [],
   "source": [
    "def arabic_date_parser(date):\n",
    "    morocian_months_mapper = {\n",
    "        'يناير': 'January',\n",
    "        'فبراير': 'February',\n",
    "        'مارس': 'March',\n",
    "        'أبريل': 'April',\n",
    "        'ماي': 'May',\n",
    "        'يونيو': 'June',\n",
    "        'يوليوز': 'July',\n",
    "        'غشت': 'August',\n",
    "        'شتنبر': 'September',\n",
    "        'أكتوبر': 'October',\n",
    "        'نونبر': 'November',\n",
    "        'دجنبر': 'December'\n",
    "    }\n",
    "\n",
    "    date_pattern = r'(السبت|الأحد|الاثنين|الثلاثاء|الأربعاء|الخميس|الجمعة)\\s(?P<day>\\d{2})\\s+(?P<month>يناير|فبراير|مارس|أبريل|ماي|يونيو|يوليوز|غشت|شتنبر|أكتوبر|نونبر|دجنبر)\\s+(?P<year>\\d{4})\\s+-\\s+(?P<time>\\d{2}:\\d{2})'\n",
    "\n",
    "    match = re.match(date_pattern, date)\n",
    "    day = match.group('day')\n",
    "\n",
    "    month = match.group('month')\n",
    "    month = morocian_months_mapper[month]\n",
    "    year = match.group('year')\n",
    "    time = match.group('time')\n",
    "    parsed_date = day + ' ' + month + ' ' + year + ' - ' + time\n",
    "    return parsed_date"
   ]
  },
  {
   "cell_type": "code",
   "execution_count": 49,
   "metadata": {},
   "outputs": [],
   "source": [
    "stories_df[\"date\"] = pd.to_datetime(stories_df[\"date\"].apply(arabic_date_parser))\n",
    "stories_df[\"day\"] = stories_df[\"date\"].dt.day.astype(\"category\")\n",
    "stories_df[\"month\"] = stories_df[\"date\"].dt.month.astype(\"category\")\n",
    "stories_df[\"year\"] = stories_df[\"date\"].dt.year.astype(\"category\")\n",
    "\n",
    "stories_df[\"author\"] = stories_df[\"author\"].astype(\"category\")"
   ]
  },
  {
   "attachments": {},
   "cell_type": "markdown",
   "metadata": {},
   "source": [
    "## Data Split"
   ]
  },
  {
   "attachments": {},
   "cell_type": "markdown",
   "metadata": {},
   "source": [
    "Train and test split will be done such as test data should be the last 20% story from each topic, from the [EDA Notebook](https://github.com/moziada/WideBot-T2-Hespress-EDA) we know that each different topic has 1000 story and the data contains 11 different topics."
   ]
  },
  {
   "cell_type": "code",
   "execution_count": 50,
   "metadata": {},
   "outputs": [],
   "source": [
    "train_idx = []\n",
    "for i in range(11):\n",
    "    start_idx = i * 1000\n",
    "    end_idx = start_idx + 800\n",
    "    train_idx.append(np.arange(start_idx, end_idx, 1))\n",
    "train_idx = np.concatenate(train_idx)\n",
    "\n",
    "test_idx = []\n",
    "for i in range(11):\n",
    "    start_idx = i * 1000 + 800\n",
    "    end_idx = start_idx + 200\n",
    "    test_idx.append(np.arange(start_idx, end_idx, 1))\n",
    "test_idx = np.concatenate(test_idx)"
   ]
  },
  {
   "cell_type": "code",
   "execution_count": 51,
   "metadata": {},
   "outputs": [],
   "source": [
    "X_cols = [\"author\", \"story\", \"day\", \"month\", \"year\"]\n",
    "y_col = \"topic\"\n",
    "\n",
    "X_train = stories_df.loc[train_idx, X_cols]\n",
    "y_train = stories_df.loc[train_idx, y_col]\n",
    "\n",
    "X_test = stories_df.loc[test_idx, X_cols]\n",
    "y_test = stories_df.loc[test_idx, y_col]"
   ]
  },
  {
   "attachments": {},
   "cell_type": "markdown",
   "metadata": {},
   "source": [
    "## Modeling"
   ]
  },
  {
   "cell_type": "code",
   "execution_count": 52,
   "metadata": {},
   "outputs": [],
   "source": [
    "from sklearn.feature_extraction.text import CountVectorizer\n",
    "from sklearn.preprocessing import LabelEncoder\n",
    "\n",
    "vectorizer = CountVectorizer(ngram_range=(2, 2), max_features=10000, token_pattern=r'[ء-ي]+').fit(X_train[\"story\"])\n",
    "target_encoder = LabelEncoder().fit(y_train)"
   ]
  },
  {
   "cell_type": "code",
   "execution_count": 53,
   "metadata": {},
   "outputs": [],
   "source": [
    "train_stories_vectorized = pd.DataFrame(vectorizer.transform(X_train[\"story\"]).toarray(), index=train_idx)\n",
    "X_train = pd.concat([X_train, train_stories_vectorized], axis=1).drop(\"story\", axis=1)\n",
    "\n",
    "test_stories_vectorized = pd.DataFrame(vectorizer.transform(X_test[\"story\"]).toarray(), index=test_idx)\n",
    "X_test = pd.concat([X_test, test_stories_vectorized], axis=1).drop(\"story\", axis=1)\n",
    "\n",
    "y_train = target_encoder.transform(y_train)\n",
    "y_test = target_encoder.transform(y_test)"
   ]
  },
  {
   "cell_type": "code",
   "execution_count": 54,
   "metadata": {},
   "outputs": [],
   "source": [
    "import lightgbm as lgb\n",
    "\n",
    "cat_features = [\"day\", \"month\", \"year\", \"author\"]\n",
    "dtrain = lgb.Dataset(X_train, label=y_train, categorical_feature=cat_features)\n",
    "dtest = lgb.Dataset(X_test, label=y_test, categorical_feature=cat_features)"
   ]
  },
  {
   "cell_type": "code",
   "execution_count": 55,
   "metadata": {},
   "outputs": [
    {
     "name": "stderr",
     "output_type": "stream",
     "text": [
      "c:\\Users\\mohamed\\anaconda3\\envs\\ml\\lib\\site-packages\\lightgbm\\basic.py:1433: UserWarning: Overriding the parameters from Reference Dataset.\n",
      "  _log_warning('Overriding the parameters from Reference Dataset.')\n",
      "c:\\Users\\mohamed\\anaconda3\\envs\\ml\\lib\\site-packages\\lightgbm\\basic.py:1245: UserWarning: categorical_column in param dict is overridden.\n",
      "  _log_warning('{} in param dict is overridden.'.format(cat_alias))\n"
     ]
    },
    {
     "name": "stdout",
     "output_type": "stream",
     "text": [
      "[1]\tvalid_0's multi_logloss: 2.00822\n",
      "Training until validation scores don't improve for 50 rounds\n",
      "[2]\tvalid_0's multi_logloss: 1.82481\n",
      "[3]\tvalid_0's multi_logloss: 1.7143\n",
      "[4]\tvalid_0's multi_logloss: 1.61712\n",
      "[5]\tvalid_0's multi_logloss: 1.55085\n",
      "[6]\tvalid_0's multi_logloss: 1.50288\n",
      "[7]\tvalid_0's multi_logloss: 1.46954\n",
      "[8]\tvalid_0's multi_logloss: 1.43469\n",
      "[9]\tvalid_0's multi_logloss: 1.4091\n",
      "[10]\tvalid_0's multi_logloss: 1.3927\n",
      "[11]\tvalid_0's multi_logloss: 1.38288\n",
      "[12]\tvalid_0's multi_logloss: 1.37718\n",
      "[13]\tvalid_0's multi_logloss: 1.37447\n",
      "[14]\tvalid_0's multi_logloss: 1.37182\n",
      "[15]\tvalid_0's multi_logloss: 1.36312\n",
      "[16]\tvalid_0's multi_logloss: 1.3625\n",
      "[17]\tvalid_0's multi_logloss: 1.36401\n",
      "[18]\tvalid_0's multi_logloss: 1.35711\n",
      "[19]\tvalid_0's multi_logloss: 1.35288\n",
      "[20]\tvalid_0's multi_logloss: 1.35406\n",
      "[21]\tvalid_0's multi_logloss: 1.3458\n",
      "[22]\tvalid_0's multi_logloss: 1.34752\n",
      "[23]\tvalid_0's multi_logloss: 1.34343\n",
      "[24]\tvalid_0's multi_logloss: 1.33887\n",
      "[25]\tvalid_0's multi_logloss: 1.33902\n",
      "[26]\tvalid_0's multi_logloss: 1.3422\n",
      "[27]\tvalid_0's multi_logloss: 1.33993\n",
      "[28]\tvalid_0's multi_logloss: 1.34002\n",
      "[29]\tvalid_0's multi_logloss: 1.3348\n",
      "[30]\tvalid_0's multi_logloss: 1.34403\n",
      "[31]\tvalid_0's multi_logloss: 1.33517\n",
      "[32]\tvalid_0's multi_logloss: 1.33128\n",
      "[33]\tvalid_0's multi_logloss: 1.33398\n",
      "[34]\tvalid_0's multi_logloss: 1.33347\n",
      "[35]\tvalid_0's multi_logloss: 1.33101\n",
      "[36]\tvalid_0's multi_logloss: 1.32805\n",
      "[37]\tvalid_0's multi_logloss: 1.32994\n",
      "[38]\tvalid_0's multi_logloss: 1.32369\n",
      "[39]\tvalid_0's multi_logloss: 1.32549\n",
      "[40]\tvalid_0's multi_logloss: 1.32905\n",
      "[41]\tvalid_0's multi_logloss: 1.32754\n",
      "[42]\tvalid_0's multi_logloss: 1.32909\n",
      "[43]\tvalid_0's multi_logloss: 1.32927\n",
      "[44]\tvalid_0's multi_logloss: 1.32825\n",
      "[45]\tvalid_0's multi_logloss: 1.33297\n",
      "[46]\tvalid_0's multi_logloss: 1.33507\n",
      "[47]\tvalid_0's multi_logloss: 1.33092\n",
      "[48]\tvalid_0's multi_logloss: 1.33156\n",
      "[49]\tvalid_0's multi_logloss: 1.33631\n",
      "[50]\tvalid_0's multi_logloss: 1.3336\n",
      "[51]\tvalid_0's multi_logloss: 1.33246\n",
      "[52]\tvalid_0's multi_logloss: 1.33278\n",
      "[53]\tvalid_0's multi_logloss: 1.33319\n",
      "[54]\tvalid_0's multi_logloss: 1.33101\n",
      "[55]\tvalid_0's multi_logloss: 1.32853\n",
      "[56]\tvalid_0's multi_logloss: 1.32334\n",
      "[57]\tvalid_0's multi_logloss: 1.32569\n",
      "[58]\tvalid_0's multi_logloss: 1.32163\n",
      "[59]\tvalid_0's multi_logloss: 1.31879\n",
      "[60]\tvalid_0's multi_logloss: 1.31963\n",
      "[61]\tvalid_0's multi_logloss: 1.31898\n",
      "[62]\tvalid_0's multi_logloss: 1.31618\n",
      "[63]\tvalid_0's multi_logloss: 1.31404\n",
      "[64]\tvalid_0's multi_logloss: 1.31177\n",
      "[65]\tvalid_0's multi_logloss: 1.31088\n",
      "[66]\tvalid_0's multi_logloss: 1.30666\n",
      "[67]\tvalid_0's multi_logloss: 1.30539\n",
      "[68]\tvalid_0's multi_logloss: 1.3001\n",
      "[69]\tvalid_0's multi_logloss: 1.29853\n",
      "[70]\tvalid_0's multi_logloss: 1.30134\n",
      "[71]\tvalid_0's multi_logloss: 1.29738\n",
      "[72]\tvalid_0's multi_logloss: 1.29432\n",
      "[73]\tvalid_0's multi_logloss: 1.29605\n",
      "[74]\tvalid_0's multi_logloss: 1.29423\n",
      "[75]\tvalid_0's multi_logloss: 1.29537\n",
      "[76]\tvalid_0's multi_logloss: 1.29582\n",
      "[77]\tvalid_0's multi_logloss: 1.29396\n",
      "[78]\tvalid_0's multi_logloss: 1.29304\n",
      "[79]\tvalid_0's multi_logloss: 1.29196\n",
      "[80]\tvalid_0's multi_logloss: 1.2902\n",
      "[81]\tvalid_0's multi_logloss: 1.28998\n",
      "[82]\tvalid_0's multi_logloss: 1.28828\n",
      "[83]\tvalid_0's multi_logloss: 1.2862\n",
      "[84]\tvalid_0's multi_logloss: 1.28627\n",
      "[85]\tvalid_0's multi_logloss: 1.28263\n",
      "[86]\tvalid_0's multi_logloss: 1.27793\n",
      "[87]\tvalid_0's multi_logloss: 1.27927\n",
      "[88]\tvalid_0's multi_logloss: 1.27601\n",
      "[89]\tvalid_0's multi_logloss: 1.27344\n",
      "[90]\tvalid_0's multi_logloss: 1.27178\n",
      "[91]\tvalid_0's multi_logloss: 1.27259\n",
      "[92]\tvalid_0's multi_logloss: 1.27434\n",
      "[93]\tvalid_0's multi_logloss: 1.2714\n",
      "[94]\tvalid_0's multi_logloss: 1.27647\n",
      "[95]\tvalid_0's multi_logloss: 1.27356\n",
      "[96]\tvalid_0's multi_logloss: 1.2765\n",
      "[97]\tvalid_0's multi_logloss: 1.27529\n",
      "[98]\tvalid_0's multi_logloss: 1.2732\n",
      "[99]\tvalid_0's multi_logloss: 1.27429\n",
      "[100]\tvalid_0's multi_logloss: 1.27229\n",
      "[101]\tvalid_0's multi_logloss: 1.26999\n",
      "[102]\tvalid_0's multi_logloss: 1.26995\n",
      "[103]\tvalid_0's multi_logloss: 1.26887\n",
      "[104]\tvalid_0's multi_logloss: 1.26662\n",
      "[105]\tvalid_0's multi_logloss: 1.26901\n",
      "[106]\tvalid_0's multi_logloss: 1.26585\n",
      "[107]\tvalid_0's multi_logloss: 1.26681\n",
      "[108]\tvalid_0's multi_logloss: 1.26672\n",
      "[109]\tvalid_0's multi_logloss: 1.2659\n",
      "[110]\tvalid_0's multi_logloss: 1.2647\n",
      "[111]\tvalid_0's multi_logloss: 1.26464\n",
      "[112]\tvalid_0's multi_logloss: 1.26469\n",
      "[113]\tvalid_0's multi_logloss: 1.264\n",
      "[114]\tvalid_0's multi_logloss: 1.26422\n",
      "[115]\tvalid_0's multi_logloss: 1.2664\n",
      "[116]\tvalid_0's multi_logloss: 1.2657\n",
      "[117]\tvalid_0's multi_logloss: 1.26737\n",
      "[118]\tvalid_0's multi_logloss: 1.26644\n",
      "[119]\tvalid_0's multi_logloss: 1.26471\n",
      "[120]\tvalid_0's multi_logloss: 1.26724\n",
      "[121]\tvalid_0's multi_logloss: 1.2661\n",
      "[122]\tvalid_0's multi_logloss: 1.26429\n",
      "[123]\tvalid_0's multi_logloss: 1.26089\n",
      "[124]\tvalid_0's multi_logloss: 1.26094\n",
      "[125]\tvalid_0's multi_logloss: 1.26028\n",
      "[126]\tvalid_0's multi_logloss: 1.25862\n",
      "[127]\tvalid_0's multi_logloss: 1.25873\n",
      "[128]\tvalid_0's multi_logloss: 1.25846\n",
      "[129]\tvalid_0's multi_logloss: 1.25643\n",
      "[130]\tvalid_0's multi_logloss: 1.25716\n",
      "[131]\tvalid_0's multi_logloss: 1.25699\n",
      "[132]\tvalid_0's multi_logloss: 1.25649\n",
      "[133]\tvalid_0's multi_logloss: 1.25504\n",
      "[134]\tvalid_0's multi_logloss: 1.25425\n",
      "[135]\tvalid_0's multi_logloss: 1.2545\n",
      "[136]\tvalid_0's multi_logloss: 1.25492\n",
      "[137]\tvalid_0's multi_logloss: 1.2543\n",
      "[138]\tvalid_0's multi_logloss: 1.25251\n",
      "[139]\tvalid_0's multi_logloss: 1.24932\n",
      "[140]\tvalid_0's multi_logloss: 1.24867\n",
      "[141]\tvalid_0's multi_logloss: 1.25127\n",
      "[142]\tvalid_0's multi_logloss: 1.25301\n",
      "[143]\tvalid_0's multi_logloss: 1.25189\n",
      "[144]\tvalid_0's multi_logloss: 1.25015\n",
      "[145]\tvalid_0's multi_logloss: 1.24814\n",
      "[146]\tvalid_0's multi_logloss: 1.24997\n",
      "[147]\tvalid_0's multi_logloss: 1.25319\n",
      "[148]\tvalid_0's multi_logloss: 1.2544\n",
      "[149]\tvalid_0's multi_logloss: 1.25402\n",
      "[150]\tvalid_0's multi_logloss: 1.2534\n",
      "[151]\tvalid_0's multi_logloss: 1.25489\n",
      "[152]\tvalid_0's multi_logloss: 1.25449\n",
      "[153]\tvalid_0's multi_logloss: 1.25285\n",
      "[154]\tvalid_0's multi_logloss: 1.2526\n",
      "[155]\tvalid_0's multi_logloss: 1.25086\n",
      "[156]\tvalid_0's multi_logloss: 1.25046\n",
      "[157]\tvalid_0's multi_logloss: 1.2502\n",
      "[158]\tvalid_0's multi_logloss: 1.25056\n",
      "[159]\tvalid_0's multi_logloss: 1.24908\n",
      "[160]\tvalid_0's multi_logloss: 1.24685\n",
      "[161]\tvalid_0's multi_logloss: 1.24536\n",
      "[162]\tvalid_0's multi_logloss: 1.24321\n",
      "[163]\tvalid_0's multi_logloss: 1.24302\n",
      "[164]\tvalid_0's multi_logloss: 1.24306\n",
      "[165]\tvalid_0's multi_logloss: 1.24147\n",
      "[166]\tvalid_0's multi_logloss: 1.24512\n",
      "[167]\tvalid_0's multi_logloss: 1.24472\n",
      "[168]\tvalid_0's multi_logloss: 1.24391\n",
      "[169]\tvalid_0's multi_logloss: 1.24094\n",
      "[170]\tvalid_0's multi_logloss: 1.2402\n",
      "[171]\tvalid_0's multi_logloss: 1.24072\n",
      "[172]\tvalid_0's multi_logloss: 1.2417\n",
      "[173]\tvalid_0's multi_logloss: 1.24125\n",
      "[174]\tvalid_0's multi_logloss: 1.24052\n",
      "[175]\tvalid_0's multi_logloss: 1.23969\n",
      "[176]\tvalid_0's multi_logloss: 1.23933\n",
      "[177]\tvalid_0's multi_logloss: 1.23776\n",
      "[178]\tvalid_0's multi_logloss: 1.23815\n",
      "[179]\tvalid_0's multi_logloss: 1.23758\n",
      "[180]\tvalid_0's multi_logloss: 1.23691\n",
      "[181]\tvalid_0's multi_logloss: 1.23605\n",
      "[182]\tvalid_0's multi_logloss: 1.23518\n",
      "[183]\tvalid_0's multi_logloss: 1.23503\n",
      "[184]\tvalid_0's multi_logloss: 1.23423\n",
      "[185]\tvalid_0's multi_logloss: 1.23292\n",
      "[186]\tvalid_0's multi_logloss: 1.23314\n",
      "[187]\tvalid_0's multi_logloss: 1.23337\n",
      "[188]\tvalid_0's multi_logloss: 1.23365\n",
      "[189]\tvalid_0's multi_logloss: 1.23274\n",
      "[190]\tvalid_0's multi_logloss: 1.23317\n",
      "[191]\tvalid_0's multi_logloss: 1.23226\n",
      "[192]\tvalid_0's multi_logloss: 1.23228\n",
      "[193]\tvalid_0's multi_logloss: 1.2307\n",
      "[194]\tvalid_0's multi_logloss: 1.23114\n",
      "[195]\tvalid_0's multi_logloss: 1.23003\n",
      "[196]\tvalid_0's multi_logloss: 1.23028\n",
      "[197]\tvalid_0's multi_logloss: 1.23135\n",
      "[198]\tvalid_0's multi_logloss: 1.23053\n",
      "[199]\tvalid_0's multi_logloss: 1.22932\n",
      "[200]\tvalid_0's multi_logloss: 1.22858\n",
      "[201]\tvalid_0's multi_logloss: 1.22864\n",
      "[202]\tvalid_0's multi_logloss: 1.22954\n",
      "[203]\tvalid_0's multi_logloss: 1.22932\n",
      "[204]\tvalid_0's multi_logloss: 1.23014\n",
      "[205]\tvalid_0's multi_logloss: 1.23062\n",
      "[206]\tvalid_0's multi_logloss: 1.23067\n",
      "[207]\tvalid_0's multi_logloss: 1.23089\n",
      "[208]\tvalid_0's multi_logloss: 1.23061\n",
      "[209]\tvalid_0's multi_logloss: 1.2301\n",
      "[210]\tvalid_0's multi_logloss: 1.23056\n",
      "[211]\tvalid_0's multi_logloss: 1.23059\n",
      "[212]\tvalid_0's multi_logloss: 1.2311\n",
      "[213]\tvalid_0's multi_logloss: 1.23007\n",
      "[214]\tvalid_0's multi_logloss: 1.22939\n",
      "[215]\tvalid_0's multi_logloss: 1.22845\n",
      "[216]\tvalid_0's multi_logloss: 1.22888\n",
      "[217]\tvalid_0's multi_logloss: 1.22976\n",
      "[218]\tvalid_0's multi_logloss: 1.23008\n",
      "[219]\tvalid_0's multi_logloss: 1.22959\n",
      "[220]\tvalid_0's multi_logloss: 1.2308\n",
      "[221]\tvalid_0's multi_logloss: 1.23046\n",
      "[222]\tvalid_0's multi_logloss: 1.23045\n",
      "[223]\tvalid_0's multi_logloss: 1.2306\n",
      "[224]\tvalid_0's multi_logloss: 1.23056\n",
      "[225]\tvalid_0's multi_logloss: 1.23131\n",
      "[226]\tvalid_0's multi_logloss: 1.23111\n",
      "[227]\tvalid_0's multi_logloss: 1.23135\n",
      "[228]\tvalid_0's multi_logloss: 1.23212\n",
      "[229]\tvalid_0's multi_logloss: 1.23219\n",
      "[230]\tvalid_0's multi_logloss: 1.2326\n",
      "[231]\tvalid_0's multi_logloss: 1.23364\n",
      "[232]\tvalid_0's multi_logloss: 1.23439\n",
      "[233]\tvalid_0's multi_logloss: 1.23652\n",
      "[234]\tvalid_0's multi_logloss: 1.23624\n",
      "[235]\tvalid_0's multi_logloss: 1.23699\n",
      "[236]\tvalid_0's multi_logloss: 1.23746\n",
      "[237]\tvalid_0's multi_logloss: 1.23703\n",
      "[238]\tvalid_0's multi_logloss: 1.23758\n",
      "[239]\tvalid_0's multi_logloss: 1.23768\n",
      "[240]\tvalid_0's multi_logloss: 1.23826\n",
      "[241]\tvalid_0's multi_logloss: 1.23822\n",
      "[242]\tvalid_0's multi_logloss: 1.23814\n",
      "[243]\tvalid_0's multi_logloss: 1.2396\n",
      "[244]\tvalid_0's multi_logloss: 1.23946\n",
      "[245]\tvalid_0's multi_logloss: 1.24117\n",
      "[246]\tvalid_0's multi_logloss: 1.24166\n",
      "[247]\tvalid_0's multi_logloss: 1.24274\n",
      "[248]\tvalid_0's multi_logloss: 1.24307\n",
      "[249]\tvalid_0's multi_logloss: 1.24342\n",
      "[250]\tvalid_0's multi_logloss: 1.24396\n",
      "[251]\tvalid_0's multi_logloss: 1.24502\n",
      "[252]\tvalid_0's multi_logloss: 1.24536\n",
      "[253]\tvalid_0's multi_logloss: 1.24618\n",
      "[254]\tvalid_0's multi_logloss: 1.24507\n",
      "[255]\tvalid_0's multi_logloss: 1.24517\n",
      "[256]\tvalid_0's multi_logloss: 1.24524\n",
      "[257]\tvalid_0's multi_logloss: 1.24491\n",
      "[258]\tvalid_0's multi_logloss: 1.24601\n",
      "[259]\tvalid_0's multi_logloss: 1.24765\n",
      "[260]\tvalid_0's multi_logloss: 1.24841\n",
      "[261]\tvalid_0's multi_logloss: 1.24969\n",
      "[262]\tvalid_0's multi_logloss: 1.24911\n",
      "[263]\tvalid_0's multi_logloss: 1.24972\n",
      "[264]\tvalid_0's multi_logloss: 1.2498\n",
      "[265]\tvalid_0's multi_logloss: 1.25119\n",
      "Early stopping, best iteration is:\n",
      "[215]\tvalid_0's multi_logloss: 1.22845\n"
     ]
    }
   ],
   "source": [
    "model_params = {\n",
    "    \"metrics\": ['multi_logloss'],\n",
    "    \"verbosity\": -1,\n",
    "    \"seed\": 10,\n",
    "    'objective': 'multiclass',\n",
    "    'num_class': 11,\n",
    "    #'max_depth': 4,\n",
    "    #'min_split_gain': 0.2,\n",
    "    #'num_leaves': 10,\n",
    "    #'learning_rate': 0.2,\n",
    "}\n",
    "\n",
    "eval_callbacks = [lgb.early_stopping(50, verbose=1)]\n",
    "\n",
    "clf = lgb.train(model_params,\n",
    "                dtrain,\n",
    "                num_boost_round=1500,\n",
    "                categorical_feature=cat_features,\n",
    "                valid_sets=[dtest],\n",
    "                callbacks=eval_callbacks)"
   ]
  },
  {
   "cell_type": "code",
   "execution_count": 56,
   "metadata": {},
   "outputs": [],
   "source": [
    "y_pred = []\n",
    "for y in clf.predict(X_test):\n",
    "    y_pred.append(np.argmax(y))"
   ]
  },
  {
   "cell_type": "code",
   "execution_count": 59,
   "metadata": {},
   "outputs": [
    {
     "name": "stdout",
     "output_type": "stream",
     "text": [
      "                    precision    recall  f1-score   support\n",
      "\n",
      "    art-et-culture       0.55      0.54      0.54       200\n",
      "          economie       0.69      0.70      0.69       200\n",
      "      faits-divers       0.94      0.93      0.93       200\n",
      "marocains-du-monde       0.46      0.89      0.60       200\n",
      "            medias       0.79      0.76      0.77       200\n",
      "           orbites       0.45      0.32      0.37       200\n",
      "         politique       0.55      0.58      0.57       200\n",
      "           regions       0.97      0.72      0.83       200\n",
      "           societe       0.71      0.41      0.52       200\n",
      "             sport       0.98      0.91      0.95       200\n",
      "         tamazight       0.89      1.00      0.94       200\n",
      "\n",
      "          accuracy                           0.70      2200\n",
      "         macro avg       0.72      0.70      0.70      2200\n",
      "      weighted avg       0.72      0.70      0.70      2200\n",
      "\n"
     ]
    }
   ],
   "source": [
    "from sklearn.metrics import confusion_matrix, classification_report, ConfusionMatrixDisplay\n",
    "\n",
    "print(classification_report(y_test ,y_pred, labels=[i for i in range(11)], target_names=target_encoder.inverse_transform([i for i in range(11)])))"
   ]
  },
  {
   "attachments": {},
   "cell_type": "markdown",
   "metadata": {},
   "source": [
    "* **Precision**: measures the accuracy of correct classifications for a specific class in multiclass classification.\n",
    "* **Recall**: measures the ability of the classifier to find all instances of a specific class.\n",
    "* **F1-score**: penalizes classes that have either low precision or low recall, it gives equal weight to both metrics.\n",
    "* **support**: number of examples per class.\n"
   ]
  },
  {
   "cell_type": "code",
   "execution_count": 58,
   "metadata": {},
   "outputs": [
    {
     "data": {
      "text/plain": [
       "<sklearn.metrics._plot.confusion_matrix.ConfusionMatrixDisplay at 0x1d201fc0278>"
      ]
     },
     "execution_count": 58,
     "metadata": {},
     "output_type": "execute_result"
    },
    {
     "data": {
      "image/png": "[encoded data removed]",
      "text/plain": [
       "<Figure size 720x576 with 2 Axes>"
      ]
     },
     "metadata": {
      "needs_background": "light"
     },
     "output_type": "display_data"
    }
   ],
   "source": [
    "cm = confusion_matrix(y_test, y_pred)\n",
    "cmd = ConfusionMatrixDisplay(confusion_matrix=cm, display_labels=target_encoder.classes_)\n",
    "\n",
    "fig, ax = plt.subplots(figsize=(10, 8))\n",
    "cmd.plot(ax=ax)\n"
   ]
  },
  {
   "attachments": {},
   "cell_type": "markdown",
   "metadata": {},
   "source": [
    "Some insights from the metrics, the overall accuracy is 70%, and there are classes that scores low accuracy like `orbites` that is usually misclassified as `politique` or `art-et-culture`"
   ]
  }
 ],
 "metadata": {
  "kernelspec": {
   "display_name": "Python 3",
   "language": "python",
   "name": "python3"
  },
  "language_info": {
   "codemirror_mode": {
    "name": "ipython",
    "version": 3
   },
   "file_extension": ".py",
   "mimetype": "text/x-python",
   "name": "python",
   "nbconvert_exporter": "python",
   "pygments_lexer": "ipython3",
   "version": "3.6.12"
  },
  "vscode": {
   "interpreter": {
    "hash": "ac37504ca4b6dd3f0108639041133c56ed9c809659c702a449db6578dee51d63"
   }
  }
 },
 "nbformat": 4,
 "nbformat_minor": 2
}
